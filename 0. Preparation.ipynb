{
 "cells": [
  {
   "cell_type": "markdown",
   "metadata": {},
   "source": [
    "# 0. TensorFlow Introduction: Preparation\n",
    "\n",
    "<br/>\n",
    "\n",
    "## 0-1. Prerequisites\n",
    "\n",
    "This codelab requires Mac OS X, Windows or Linux PC that is connected to the internet.\n",
    "\n",
    "<br/>\n",
    "\n",
    "## 1-1. Set up BigQuery\n",
    "\n",
    "Follow the [BigQuery Quickstart](https://cloud.google.com/bigquery/quickstart-web-ui) and make sure you can execute BigQuery query on Web UI. \n",
    "\n",
    "This requires signing up to Google Cloud Platform (GCP) and setting a billing with your credit card. If this is the first time for you to try GCP, you will have free trial credit and will not be charged until you use up the credit.\n",
    "\n",
    "![](https://cloud.google.com/bigquery/images/querysectionselected.png)\n",
    "\n",
    "<br/>\n",
    "\n",
    "## 1-2. Set up Cloud Datalab\n",
    "\n",
    "Follow the [Run Cloud Datalab locally](https://cloud.google.com/datalab/docs/quickstarts/quickstart-local) instruction for setting up Cloud Datalab at your local PC and make sure you can open the Datalab on your browser.\n",
    "\n",
    "![](https://cloud.google.com/datalab/images/datalab-launch-sign-in.png)\n",
    "\n",
    "## 1-3. Download the codelab materials\n",
    "\n",
    "From [TensorFlow-Intro repository on GitHub](https://github.com/kazunori279/TensorFlow-Intro), click the green `Clone or download` button, download a zip file, and extract the zip file. You can move the extracted folder `TensorFlow-Intro-master` to anywhere you like. Then open [the top page of your local Datalab folder](http://localhost:8081/tree) and navigate to the `TensorFlow-Intro-master` folder with the codelab materials.\n",
    "\n",
    "![](images/codelab_materials.png)\n",
    "\n",
    "## 1-4. Learn Jupyter Notebook basics\n",
    "\n",
    "Follow the [Introduction to Notebooks](http://localhost:8081/notebooks/datalab/docs/intro/Introduction%20to%20Notebooks.ipynb) to learn basics of Jupyter Notebook."
   ]
  },
  {
   "cell_type": "code",
   "execution_count": null,
   "metadata": {
    "collapsed": true
   },
   "outputs": [],
   "source": []
  }
 ],
 "metadata": {
  "kernelspec": {
   "display_name": "Python 2",
   "language": "python",
   "name": "python2"
  },
  "language_info": {
   "codemirror_mode": {
    "name": "ipython",
    "version": 2
   },
   "file_extension": ".py",
   "mimetype": "text/x-python",
   "name": "python",
   "nbconvert_exporter": "python",
   "pygments_lexer": "ipython2",
   "version": "2.7.9"
  }
 },
 "nbformat": 4,
 "nbformat_minor": 2
}
