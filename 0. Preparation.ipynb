{
 "cells": [
  {
   "cell_type": "markdown",
   "metadata": {},
   "source": [
    "# 0. TensorFlow Introduction: Preparation"
   ]
  },
  {
   "cell_type": "markdown",
   "metadata": {},
   "source": [
    "## 0-1. Prerequisites\n",
    "\n",
    "This codelab requires:\n",
    "\n",
    "- Mac OS X, Windows or Linux PC that is connected to the internet\n",
    " - **Windows Home and Virtual Machines (such as VirtualBox, docker machines) doesn't work with this codelab**\n",
    "- Basic experience on Python and SQL programming\n"
   ]
  },
  {
   "cell_type": "markdown",
   "metadata": {},
   "source": [
    "## 1-1. Set up BigQuery\n",
    "\n",
    "Follow the [BigQuery Quickstart](https://cloud.google.com/bigquery/quickstart-web-ui) until you finish the section [Query a public dataset\n",
    "](https://cloud.google.com/bigquery/quickstart-web-ui#query_a_public_dataset). You can skip go through the other sections.\n",
    "\n",
    "![](https://cloud.google.com/bigquery/images/querysectionselected.png)"
   ]
  },
  {
   "cell_type": "markdown",
   "metadata": {},
   "source": [
    "## 1-2. Set up Cloud Datalab\n",
    "\n",
    "Follow the [Run Cloud Datalab locally](https://cloud.google.com/datalab/docs/quickstarts/quickstart-local) instruction for setting up Cloud Datalab at your local PC and make sure you can open the Datalab on your browser. Then click the Account button at top right and click `Sign In` to sign in with your Google account.\n",
    "\n",
    "![](https://cloud.google.com/datalab/images/datalab-launch-sign-in.png)"
   ]
  },
  {
   "cell_type": "markdown",
   "metadata": {},
   "source": [
    "## 1-3. Learn Jupyter Notebook basics\n",
    "\n",
    "Follow the [Introduction to Notebooks](http://localhost:8081/notebooks/datalab/docs/intro/Introduction%20to%20Notebooks.ipynb) to learn basics of Jupyter Notebook."
   ]
  },
  {
   "cell_type": "markdown",
   "metadata": {},
   "source": [
    "## 1-4. Download the codelab materials\n",
    "\n",
    "From [TensorFlow-Intro repository on GitHub](https://github.com/kazunori279/TensorFlow-Intro), click the green `Clone or download` button, download a zip file, and extract the zip file. You can move the extracted folder `TensorFlow-Intro-master` to anywhere you like under your home directory. Then open [the top page of your local Datalab folder](http://localhost:8081/tree), navigate to the `TensorFlow-Intro-master` folder, so you will see the list of the codelab materials. For example, if you have extracted the file under `Download` folder, your Datalab folder may look like this.\n",
    "\n",
    "![](images/download_folder.png)\n",
    "\n",
    "Then you can click the `TensorFlow-Intro-master` folder to see all the materials.\n",
    "\n",
    "- For users of docker-machine & VirtualBox: you would see an issue on accessing the content. Please refer to [this issue](https://github.com/kazunori279/TensorFlow-Intro/issues/6) to solve this."
   ]
  },
  {
   "cell_type": "markdown",
   "metadata": {},
   "source": [
    "# What's Next?\n",
    "\n",
    "Now you're ready to join the TensorFlow Introduction codelab. Please start the codelab from [1. Understanding neural netowrk with TensorFlow Playground](1.%20Understanding%20neural%20network%20with%20TensorFlow%20Playground.ipynb)"
   ]
  }
 ],
 "metadata": {
  "kernelspec": {
   "display_name": "Python 2",
   "language": "python",
   "name": "python2"
  },
  "language_info": {
   "codemirror_mode": {
    "name": "ipython",
    "version": 2
   },
   "file_extension": ".py",
   "mimetype": "text/x-python",
   "name": "python",
   "nbconvert_exporter": "python",
   "pygments_lexer": "ipython2",
   "version": "2.7.9"
  }
 },
 "nbformat": 4,
 "nbformat_minor": 2
}
