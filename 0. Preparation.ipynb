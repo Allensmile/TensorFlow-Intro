{
 "cells": [
  {
   "cell_type": "markdown",
   "metadata": {},
   "source": [
    "# TensorFlow Introduction: Preparation\n",
    "\n",
    "<br/>\n",
    "\n",
    "## Prerequisites\n",
    "\n",
    "This codelab requires Mac OS X, Windows or Linux PC that is connected to the internet.\n",
    "\n",
    "<br/>\n",
    "\n",
    "## Set up BigQuery\n",
    "\n",
    "Follow the [BigQuery Quickstart](https://cloud.google.com/bigquery/quickstart-web-ui) and make sure you can execute BigQuery query on Web UI. \n",
    "\n",
    "This requires signing up to Google Cloud Platform (GCP) and setting a billing with your credit card. If this is the first time for you to try GCP, you will have free trial credit and will not be charged until you use up the credit.\n",
    "\n",
    "![](https://cloud.google.com/bigquery/images/querysectionselected.png)\n",
    "\n",
    "<br/>\n",
    "\n",
    "## Set up Cloud Datalab\n",
    "\n",
    "Follow the [Run Cloud Datalab locally](https://cloud.google.com/datalab/docs/quickstarts/quickstart-local) instruction for setting up Cloud Datalab at your local PC and make sure you can open the Datalab on your browser.\n",
    "\n",
    "![](https://cloud.google.com/datalab/images/datalab-launch-sign-in.png)"
   ]
  },
  {
   "cell_type": "markdown",
   "metadata": {},
   "source": []
  }
 ],
 "metadata": {
  "kernelspec": {
   "display_name": "Python 2",
   "language": "python",
   "name": "python2"
  },
  "language_info": {
   "codemirror_mode": {
    "name": "ipython",
    "version": 2
   },
   "file_extension": ".py",
   "mimetype": "text/x-python",
   "name": "python",
   "nbconvert_exporter": "python",
   "pygments_lexer": "ipython2",
   "version": "2.7.9"
  }
 },
 "nbformat": 4,
 "nbformat_minor": 2
}
