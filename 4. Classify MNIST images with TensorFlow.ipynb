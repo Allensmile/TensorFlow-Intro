{
 "cells": [
  {
   "cell_type": "markdown",
   "metadata": {},
   "source": [
    "# 4. Classify MNIST images with TensorFlow\n",
    "\n",
    "In this session, we will see how to recognize hand-written digits with a simple neural network running on TensorFlow.\n",
    "This is an adaptation of [TensorFlow Tutorial](https://www.tensorflow.org/versions/master/tutorials/mnist/beginners/index.html)."
   ]
  },
  {
   "cell_type": "markdown",
   "metadata": {},
   "source": [
    "# FOR REVIEWERS: this section is still under construction and not ready for review."
   ]
  },
  {
   "cell_type": "markdown",
   "metadata": {},
   "source": [
    "![](https://dl.dropboxusercontent.com/u/4207279/public/public_images/Screen%20Shot%202017-02-18%20at%206.04.53%20PM.png)"
   ]
  },
  {
   "cell_type": "markdown",
   "metadata": {},
   "source": [
    "## 4-1. Classyfing images as n-dimensioinal data\n",
    "\n",
    "So far, we have learned how to classifies datapoints in two dimensional spaces, such as a geolocation with latitude and logitude. In this section, we will extend the same technique to classify datapoints in n-dimensional space. \n",
    "\n",
    "What do you mean by **\"classifing datapoints in n-dimensional space\"**? As an example, we will use images of handwritten text called [MNIST](http://yann.lecun.com/exdb/mnist/) dataset as the datapoints in n-dimensional space. MNIST is one of the most popular datasets used for learning neural network technology. It's like a **hello world** in neural network."
   ]
  },
  {
   "cell_type": "markdown",
   "metadata": {},
   "source": [
    "### Loading MNIST training data\n",
    "\n",
    "At first, let's download the MNIST dataset. **Run the cell below**."
   ]
  },
  {
   "cell_type": "code",
   "execution_count": 1,
   "metadata": {
    "collapsed": false
   },
   "outputs": [
    {
     "name": "stdout",
     "output_type": "stream",
     "text": [
      "Extracting MNIST_data/train-images-idx3-ubyte.gz\n",
      "Extracting MNIST_data/train-labels-idx1-ubyte.gz\n",
      "Extracting MNIST_data/t10k-images-idx3-ubyte.gz\n",
      "Extracting MNIST_data/t10k-labels-idx1-ubyte.gz\n"
     ]
    },
    {
     "data": {
      "text/plain": [
       "(55000, 784)"
      ]
     },
     "execution_count": 1,
     "metadata": {},
     "output_type": "execute_result"
    }
   ],
   "source": [
    "# import MNIST data\n",
    "from tensorflow.examples.tutorials.mnist import input_data\n",
    "mnist = input_data.read_data_sets(\"MNIST_data/\", one_hot=True)\n",
    "mnist.train.images.shape"
   ]
  },
  {
   "cell_type": "markdown",
   "metadata": {},
   "source": [
    "### 55,000 training Images\n",
    "\n",
    "The variable `mnist` holds 55,000 gray scale images of handwritten text. Each image has 784 values that represent each pixel in an image. So it looks like this:\n",
    "\n",
    "![mnist.train.xs](https://dl.dropboxusercontent.com/u/4207279/public/public_images/Screen%20Shot%202017-02-18%20at%2011.17.39%20AM.png)"
   ]
  },
  {
   "cell_type": "markdown",
   "metadata": {},
   "source": [
    "### Single image = 784 real values\n",
    "\n",
    "Each handwritten text image has 784 values of pixels from 0.0 (white) 1.0 (black). \n",
    "\n",
    "![](https://dl.dropboxusercontent.com/u/4207279/public/public_images/Screen%20Shot%202017-02-18%20at%206.06.25%20PM.png)"
   ]
  },
  {
   "cell_type": "markdown",
   "metadata": {},
   "source": [
    "For example, if you print the values of 5th images out of the 55,000 images, it looks like this: "
   ]
  },
  {
   "cell_type": "code",
   "execution_count": 2,
   "metadata": {
    "collapsed": false
   },
   "outputs": [
    {
     "name": "stdout",
     "output_type": "stream",
     "text": [
      "[[ 0.          0.          0.          0.          0.          0.          0.\n",
      "   0.          0.          0.          0.          0.          0.          0.\n",
      "   0.          0.          0.          0.          0.          0.          0.\n",
      "   0.          0.          0.          0.          0.          0.          0.        ]\n",
      " [ 0.          0.          0.          0.          0.          0.          0.\n",
      "   0.          0.          0.          0.          0.          0.          0.\n",
      "   0.          0.          0.          0.          0.          0.          0.\n",
      "   0.          0.          0.          0.          0.          0.          0.        ]\n",
      " [ 0.          0.          0.          0.          0.          0.          0.\n",
      "   0.          0.          0.          0.          0.          0.          0.\n",
      "   0.          0.          0.          0.          0.          0.          0.\n",
      "   0.          0.          0.          0.          0.          0.          0.        ]\n",
      " [ 0.          0.          0.          0.          0.          0.          0.\n",
      "   0.          0.          0.          0.          0.          0.          0.\n",
      "   0.          0.          0.          0.          0.          0.          0.\n",
      "   0.          0.          0.          0.          0.          0.          0.        ]\n",
      " [ 0.          0.          0.          0.          0.          0.          0.\n",
      "   0.          0.          0.          0.          0.          0.          0.\n",
      "   0.          0.          0.          0.          0.          0.          0.\n",
      "   0.          0.          0.          0.          0.          0.          0.        ]\n",
      " [ 0.          0.          0.          0.          0.          0.          0.\n",
      "   0.          0.          0.          0.          0.          0.          0.\n",
      "   0.          0.23137257  0.63921571  0.99607849  0.99607849  0.99607849\n",
      "   0.76078439  0.43921572  0.07058824  0.          0.          0.          0.\n",
      "   0.        ]\n",
      " [ 0.          0.          0.          0.          0.          0.          0.\n",
      "   0.          0.          0.          0.          0.          0.\n",
      "   0.01568628  0.51764709  0.93725497  0.99215692  0.99215692  0.99215692\n",
      "   0.99215692  0.99607849  0.99215692  0.627451    0.          0.          0.\n",
      "   0.          0.        ]\n",
      " [ 0.          0.          0.          0.          0.          0.          0.\n",
      "   0.          0.          0.          0.          0.          0.\n",
      "   0.53725493  0.99215692  0.99607849  0.99215692  0.99215692  0.99215692\n",
      "   0.75294125  0.99607849  0.99215692  0.89803928  0.0509804   0.          0.\n",
      "   0.          0.        ]\n",
      " [ 0.          0.          0.          0.          0.          0.          0.\n",
      "   0.          0.          0.          0.          0.01568628  0.53725493\n",
      "   0.98431379  0.99215692  0.95686281  0.50980395  0.19215688  0.07450981\n",
      "   0.01960784  0.63921571  0.99215692  0.82352948  0.03529412  0.          0.\n",
      "   0.          0.        ]\n",
      " [ 0.          0.          0.          0.          0.          0.          0.\n",
      "   0.          0.          0.          0.          0.37254903  0.99215692\n",
      "   0.99215692  0.84313732  0.17647059  0.          0.          0.          0.\n",
      "   0.61176473  0.99215692  0.68235296  0.          0.          0.          0.\n",
      "   0.        ]\n",
      " [ 0.          0.          0.          0.          0.          0.          0.\n",
      "   0.          0.          0.          0.          0.84313732  0.99607849\n",
      "   0.81176478  0.09019608  0.          0.          0.          0.03921569\n",
      "   0.38039219  0.85098046  0.91764712  0.          0.          0.          0.\n",
      "   0.          0.        ]\n",
      " [ 0.          0.          0.          0.          0.          0.          0.\n",
      "   0.          0.          0.          0.          0.83921576  0.99215692\n",
      "   0.27843139  0.          0.          0.00784314  0.19607845  0.83529419\n",
      "   0.99215692  0.99607849  0.70588237  0.          0.          0.          0.\n",
      "   0.          0.        ]\n",
      " [ 0.          0.          0.          0.          0.          0.          0.\n",
      "   0.          0.          0.          0.          0.83921576  0.99215692\n",
      "   0.19215688  0.          0.          0.19607845  0.99215692  0.99215692\n",
      "   0.99215692  0.71764708  0.04705883  0.          0.          0.          0.\n",
      "   0.          0.        ]\n",
      " [ 0.          0.          0.          0.          0.          0.          0.\n",
      "   0.          0.          0.          0.          0.78039223  0.99215692\n",
      "   0.95294124  0.76862752  0.62352943  0.95294124  0.99215692  0.96862751\n",
      "   0.5411765   0.03137255  0.          0.          0.          0.          0.\n",
      "   0.          0.        ]\n",
      " [ 0.          0.          0.          0.          0.          0.          0.\n",
      "   0.          0.          0.          0.          0.16470589  0.99215692\n",
      "   0.99215692  0.99215692  0.99607849  0.99215692  0.99215692  0.39607847\n",
      "   0.          0.          0.          0.          0.          0.          0.\n",
      "   0.          0.        ]\n",
      " [ 0.          0.          0.          0.          0.          0.          0.\n",
      "   0.          0.          0.          0.23137257  0.58431375  0.99607849\n",
      "   0.99607849  0.99607849  1.          0.99607849  0.68627453  0.          0.\n",
      "   0.          0.          0.          0.          0.          0.          0.\n",
      "   0.        ]\n",
      " [ 0.          0.          0.          0.          0.          0.          0.\n",
      "   0.          0.13333334  0.75294125  0.99607849  0.99215692  0.99215692\n",
      "   0.99215692  0.7843138   0.53333336  0.89019614  0.9450981   0.27058825\n",
      "   0.          0.          0.          0.          0.          0.          0.\n",
      "   0.          0.        ]\n",
      " [ 0.          0.          0.          0.          0.          0.          0.\n",
      "   0.33333334  0.96862751  0.99215692  0.99607849  0.99215692  0.77647066\n",
      "   0.48235297  0.07058824  0.          0.19607845  0.99215692  0.83529419\n",
      "   0.          0.          0.          0.          0.          0.          0.\n",
      "   0.          0.        ]\n",
      " [ 0.          0.          0.          0.          0.          0.\n",
      "   0.27843139  0.96862751  0.99215692  0.92941183  0.75294125  0.27843139\n",
      "   0.02352941  0.          0.          0.          0.00784314  0.50196081\n",
      "   0.98039222  0.21176472  0.          0.          0.          0.          0.\n",
      "   0.          0.          0.        ]\n",
      " [ 0.          0.          0.          0.          0.          0.\n",
      "   0.46274513  0.99215692  0.8705883   0.14117648  0.          0.          0.\n",
      "   0.          0.          0.          0.03137255  0.71764708  0.99215692\n",
      "   0.227451    0.          0.          0.          0.          0.          0.\n",
      "   0.          0.        ]\n",
      " [ 0.          0.          0.          0.          0.          0.\n",
      "   0.46274513  0.99607849  0.54509807  0.          0.          0.          0.\n",
      "   0.          0.          0.05490196  0.72941178  0.99607849  0.99607849\n",
      "   0.227451    0.          0.          0.          0.          0.          0.\n",
      "   0.          0.        ]\n",
      " [ 0.          0.          0.          0.          0.          0.\n",
      "   0.27843139  0.96862751  0.96862751  0.54509807  0.0627451   0.          0.\n",
      "   0.07450981  0.227451    0.87843144  0.99215692  0.99215692  0.83137262\n",
      "   0.03529412  0.          0.          0.          0.          0.          0.\n",
      "   0.          0.        ]\n",
      " [ 0.          0.          0.          0.          0.          0.          0.\n",
      "   0.42352945  0.99215692  0.99215692  0.92549026  0.68627453  0.68627453\n",
      "   0.96862751  0.99215692  0.99607849  0.99215692  0.77647066  0.16862746\n",
      "   0.          0.          0.          0.          0.          0.          0.\n",
      "   0.          0.        ]\n",
      " [ 0.          0.          0.          0.          0.          0.          0.\n",
      "   0.26274511  0.83529419  0.89803928  0.99607849  0.99215692  0.99215692\n",
      "   0.99215692  0.99215692  0.83921576  0.48627454  0.02352941  0.          0.\n",
      "   0.          0.          0.          0.          0.          0.          0.\n",
      "   0.        ]\n",
      " [ 0.          0.          0.          0.          0.          0.          0.\n",
      "   0.          0.          0.09019608  0.60784316  0.60784316  0.87450987\n",
      "   0.7843138   0.46274513  0.          0.          0.          0.          0.\n",
      "   0.          0.          0.          0.          0.          0.          0.\n",
      "   0.        ]\n",
      " [ 0.          0.          0.          0.          0.          0.          0.\n",
      "   0.          0.          0.          0.          0.          0.          0.\n",
      "   0.          0.          0.          0.          0.          0.          0.\n",
      "   0.          0.          0.          0.          0.          0.          0.        ]\n",
      " [ 0.          0.          0.          0.          0.          0.          0.\n",
      "   0.          0.          0.          0.          0.          0.          0.\n",
      "   0.          0.          0.          0.          0.          0.          0.\n",
      "   0.          0.          0.          0.          0.          0.          0.        ]\n",
      " [ 0.          0.          0.          0.          0.          0.          0.\n",
      "   0.          0.          0.          0.          0.          0.          0.\n",
      "   0.          0.          0.          0.          0.          0.          0.\n",
      "   0.          0.          0.          0.          0.          0.          0.        ]]\n"
     ]
    }
   ],
   "source": [
    "# check MNIST training images matrix data\n",
    "sample_img = mnist.train.images[5].reshape(28, 28)\n",
    "print(sample_img)"
   ]
  },
  {
   "cell_type": "markdown",
   "metadata": {},
   "source": [
    "You can also plot the image with Matplotlib."
   ]
  },
  {
   "cell_type": "code",
   "execution_count": 3,
   "metadata": {
    "collapsed": false
   },
   "outputs": [
    {
     "data": {
      "image/png": "[encoded data removed]",
      "text/plain": [
       "<matplotlib.figure.Figure at 0x7fdadc26a1d0>"
      ]
     },
     "metadata": {},
     "output_type": "display_data"
    }
   ],
   "source": [
    "import matplotlib.pyplot as plt\n",
    "plt.imshow(sample_img).set_cmap('Greys')"
   ]
  },
  {
   "cell_type": "markdown",
   "metadata": {},
   "source": [
    "### Training Labels\n",
    "\n",
    "The MNISt dataset also contains the labels for each image for training.\n",
    "\n",
    "![mnist.train.ys](https://dl.dropboxusercontent.com/u/4207279/public/public_images/Screen%20Shot%202017-02-18%20at%2011.21.20%20AM.png)"
   ]
  },
  {
   "cell_type": "markdown",
   "metadata": {},
   "source": [
    "**Run the cell below** to check the shape and the values in the label array."
   ]
  },
  {
   "cell_type": "code",
   "execution_count": 4,
   "metadata": {
    "collapsed": false
   },
   "outputs": [
    {
     "name": "stdout",
     "output_type": "stream",
     "text": [
      "(55000, 10)\n",
      "[ 0.  0.  0.  0.  0.  0.  0.  0.  1.  0.]\n"
     ]
    }
   ],
   "source": [
    "# check MNIST labels shape\n",
    "print(mnist.train.labels.shape)\n",
    "\n",
    "# show MNIST label data\n",
    "print(mnist.train.labels[5])"
   ]
  },
  {
   "cell_type": "markdown",
   "metadata": {},
   "source": [
    "---\n",
    "### Lab: Use Embedding Projector to see how N-dimensional space look like\n",
    "\n",
    "If you have 784 values in an array or a vector, it is called \"784 dimensional vector\" in the context of machine learning. It's a vector in 784 dimensional space.\n",
    "\n",
    "If you have X and Y values in 2D space, or X, Y and Z in 3D space, it's really easy for humans to imagine how they look like. For example, if you have three values in a 3D vector that represents \"you like movies so much, you also like actors, and you like music a little\", you can draw a vector in 3D space like this.\n",
    "\n",
    "![](images/3d-vector.png)\n",
    "\n",
    "Meanwhile, we can't imagine how high dimensional spaces and vectors look like, if it's higher than 3D. You can't draw a picture in your head what kind of shape a vector in 784 dimensional space would have.\n",
    "\n",
    "But there's a great tool to visualize that. Open [TensorFlow Embedding Projector](http://projector.tensorflow.org/) and follow the steps below.\n",
    "\n",
    "- Select `MNIST images` as DATA at the top left\n",
    "- Select `label` from the `Color by` menu\n",
    "- Select `T-SNE` tab at the middle of left navigation\n",
    "\n",
    "You will see the MNIST images would be slowly grouped into 10 groups for each digits.\n",
    "\n",
    "<br/>\n",
    "![](images/MNIST.png)\n",
    "<br/>\n",
    "\n",
    "What's happening here? The tool uses an algorithm called [t-SNE](https://en.wikipedia.org/wiki/T-distributed_stochastic_neighbor_embedding) to do [dimensionarity reduction](https://en.wikipedia.org/wiki/Dimensionality_reduction). That means, you can \"cast a shadow\" of the n-dimensional space into 3D or 2D space. So, what you are watching above is **a shadow** of MNIST image vectors in 784 dimensional space, casted on 3D space."
   ]
  },
  {
   "cell_type": "markdown",
   "metadata": {},
   "source": [
    "## 4-2. Defining a Neural Network"
   ]
  },
  {
   "cell_type": "markdown",
   "metadata": {},
   "source": [
    "### Single neuron can recognize a single digit\n",
    "\n",
    "So, an image in MNIST dataset is a 784 dimensional vector. And you can use a single neuron to classify each vector is an image of \"1\" or not. To do that you can do the same thing we have done with latitude and longitude: mutiplies the 784 values with weights and checks if the sum exceeds a certain threthold.\n",
    "\n",
    "![](https://dl.dropboxusercontent.com/u/4207279/public/public_images/Screen%20Shot%202017-02-18%20at%206.08.38%20PM.png)"
   ]
  },
  {
   "cell_type": "markdown",
   "metadata": {},
   "source": [
    "### Define a neural network as a graph\n",
    "\n",
    "To classify an image to 10 digits, we need a single layer neural network (Perception) with 10 neurons. It would look like this. Here we have inputs from X1 to X784, multiplied with the bunch of weights to get 10 summation results, added to the 10 biases that work as thresholds. We'll see what is \"softmax\" later.\n",
    "\n",
    "![](https://dl.dropboxusercontent.com/u/4207279/public/public_images/Screen%20Shot%202017-02-18%20at%2011.22.26%20AM.png)"
   ]
  },
  {
   "cell_type": "markdown",
   "metadata": {},
   "source": [
    "### Or, as a matrix operation:\n",
    "\n",
    "There is a great tool in Math to calculate this neural network graph with just one line. That is called [Dot product](https://en.wikipedia.org/wiki/Dot_product) between matrix and vector.\n",
    "\n",
    "<br/>\n",
    "![](https://dl.dropboxusercontent.com/u/4207279/public/public_images/Screen%20Shot%202017-02-18%20at%2011.22.40%20AM.png)\n",
    "<br/>\n",
    "\n",
    "So, if you write the weights as **W**, biases as **b**, and the input values as **x**, you can define a single layer neural network as the following formula.\n",
    "\n",
    "<br/>\n",
    "$${\\Huge y=softmax(Wx + b)}$$\n",
    "<br/>\n",
    "\n",
    "This is so simple!"
   ]
  },
  {
   "cell_type": "markdown",
   "metadata": {},
   "source": [
    "### Or, as a TensorFlow graph:\n",
    "\n",
    "In TensorFlow, there is so-called **Low level API** that allows you to write the vector and matrix operations above by using **Tensor**. It looks like this. **Run the cell below** to define the network. "
   ]
  },
  {
   "cell_type": "code",
   "execution_count": 10,
   "metadata": {
    "collapsed": false
   },
   "outputs": [
    {
     "data": {
      "text/plain": [
       "<tf.Tensor 'Softmax_5:0' shape=(?, 10) dtype=float32>"
      ]
     },
     "execution_count": 10,
     "metadata": {},
     "output_type": "execute_result"
    }
   ],
   "source": [
    "# define a neural network (softmax logistic regression)\n",
    "import tensorflow as tf\n",
    "x = tf.placeholder(tf.float32, [None, 784]) # a placeholder for inputting the image \n",
    "W = tf.Variable(tf.zeros([784, 10])) # weights\n",
    "b = tf.Variable(tf.zeros([10])) # biases\n",
    "y = tf.nn.softmax(tf.matmul(x, W) + b)\n",
    "y"
   ]
  },
  {
   "cell_type": "markdown",
   "metadata": {},
   "source": [
    "**Tensor** is just an array. In Physics, they use the word Tensor for the complex math calculations, but you can forget about it. Tensor in TensorFlow is just a multi-dimensional array that can hold any high or low dimensional vectors and matrices of the input data, weights, biases and etc.\n",
    "\n",
    "So, the word **TensorFlow** means that you can use the Low level API to define **a flow of calculations for vectors and matrices**. In this case, we define the following computation flow.\n",
    "\n",
    "- At line 3, it calls `tf.placeholder` method to define a Tensor `x` for accepting any number of 784 dimensional vectors. This will be used to receive the training image data\n",
    "- At line 4, it calls `tf.Variable` method to define a Variable `W` for holding the weight matrix that has 784 x 10 values\n",
    "- At line 5, it calls `tf.Variable` method to define a Variable `b` for holding the bias vector that has 10 values\n",
    "- At line 6, it calls `tf.matmul` method to define a dot product between `x` and `W`, and calls `tf.nn.softmax` method to define a **softmax** of the value. The result Tensor is named as `y`"
   ]
  },
  {
   "cell_type": "markdown",
   "metadata": {},
   "source": [
    "## The trained weights will look like this:\n",
    "\n",
    "By training the network with the 55,000 images, you will have patterns of weights like the following. The blue area has **positive** weights, and the red area has **negative** weights.\n",
    "\n",
    "![](https://dl.dropboxusercontent.com/u/4207279/public/public_images/Screen%20Shot%202017-02-18%20at%2011.22.14%20AM.png)\n",
    "\n",
    "You can see that the blue and red patterns would work as \"filters\" for looking at each image. The network applies those filters on each image, and see the matching. If an image matches well with a filter (weights) for \"8\" and the summation exceeds the threashold (bias) for \"8\", the network believes the images must be an image of \"8\"."
   ]
  },
  {
   "cell_type": "markdown",
   "metadata": {},
   "source": [
    "### What is Softmax?\n",
    "\n",
    "So, what does the softmax method does? Softmax is a function that converts an array of values into an array of **probabilities** (0 - 1.0).\n",
    "\n",
    "<br/>\n",
    "<br/>\n",
    "<br/>\n",
    "$${\\Huge softmax(n) = \\frac{\\exp n_i}{\\sum \\exp n_i}}$$\n",
    "<br/>\n",
    "<br/>\n",
    "<br/>"
   ]
  },
  {
   "cell_type": "markdown",
   "metadata": {},
   "source": [
    "Let's see how it works by using 10 random values. **Run the cell below** to create 10 random values."
   ]
  },
  {
   "cell_type": "code",
   "execution_count": 11,
   "metadata": {
    "collapsed": false
   },
   "outputs": [
    {
     "data": {
      "text/plain": [
       "<Container object of 10 artists>"
      ]
     },
     "execution_count": 11,
     "metadata": {},
     "output_type": "execute_result"
    },
    {
     "data": {
      "image/png": "[encoded data removed]",
      "text/plain": [
       "<matplotlib.figure.Figure at 0x7fdadc382650>"
      ]
     },
     "metadata": {},
     "output_type": "display_data"
    }
   ],
   "source": [
    "import numpy as np\n",
    "i = np.arange(0, 10)\n",
    "n = np.random.randn(10)\n",
    "plt.bar(i, n)"
   ]
  },
  {
   "cell_type": "markdown",
   "metadata": {},
   "source": [
    "Then, **run the cell below** to calculate the softmax values for those random values."
   ]
  },
  {
   "cell_type": "code",
   "execution_count": 12,
   "metadata": {
    "collapsed": false
   },
   "outputs": [
    {
     "data": {
      "text/plain": [
       "1.0"
      ]
     },
     "execution_count": 12,
     "metadata": {},
     "output_type": "execute_result"
    },
    {
     "data": {
      "image/png": "[encoded data removed]",
      "text/plain": [
       "<matplotlib.figure.Figure at 0x7fdadacd8c10>"
      ]
     },
     "metadata": {},
     "output_type": "display_data"
    }
   ],
   "source": [
    "def softmax(n):\n",
    "  return np.exp(n) / np.sum(np.exp(n))\n",
    "\n",
    "s = softmax(n)\n",
    "plt.bar(i, s)\n",
    "np.sum(s)"
   ]
  },
  {
   "cell_type": "markdown",
   "metadata": {},
   "source": [
    "As you can see, softmax normalizes the original values to compare them as probabilities from 0.0 to 1.0. So you can choose the value closest to 1.0 as the final answer from neural network."
   ]
  },
  {
   "cell_type": "markdown",
   "metadata": {},
   "source": [
    "## 4-3. Defining the Train Step\n",
    "\n",
    "Next, you need to define how to train the network. **Run the cell below**."
   ]
  },
  {
   "cell_type": "code",
   "execution_count": 14,
   "metadata": {
    "collapsed": false
   },
   "outputs": [
    {
     "data": {
      "text/plain": [
       "<tf.Operation 'GradientDescent_1' type=NoOp>"
      ]
     },
     "execution_count": 14,
     "metadata": {},
     "output_type": "execute_result"
    }
   ],
   "source": [
    "# define the train step to minimize the cross entropy with SGD\n",
    "y_ = tf.placeholder(tf.float32, [None, 10]) # the training labels\n",
    "cross_entropy = -tf.reduce_sum(y_ * tf.log(y))\n",
    "train_step = tf.train.GradientDescentOptimizer(0.01).minimize(cross_entropy)\n",
    "train_step"
   ]
  },
  {
   "cell_type": "markdown",
   "metadata": {},
   "source": [
    "- At line 2, it calls `tf.placeholder` method to define a Tensor `_y` for accepting any number of 10 dimensional vectors. This will be used to receive the training labels\n",
    "- At line 3, it calls `tf.log` and `tf.reduce_sum` to define a **cross entropy** calculation on the softmax result from the network. The result Tensor is named as `cross_entropy`\n",
    "- At line 4, it calls `tf.train.GradientsDescentOptimizer.minimize` method to use **Gradient Descent** algorithm to train the network"
   ]
  },
  {
   "cell_type": "markdown",
   "metadata": {},
   "source": [
    "---\n",
    "### Lab: What is a loss function and Cross Entropy?\n",
    "\n",
    "When you train your model in machine learning, you define a [loss function](https://en.wikipedia.org/wiki/Loss_function) for evaluating the accuracy the model while you are training it. In neural network, one of the popular loss function is [Cross Entropy](https://en.wikipedia.org/wiki/Cross_entropy) as follows.\n",
    "\n",
    "<br/>\n",
    "<br/>\n",
    "<br/>\n",
    "$${\\Huge cross\\_entropy (x, y) = - \\sum   y_{i}  log(x_{i})}$$\n",
    "<br/>\n",
    "<br/>\n",
    "<br/>\n",
    "\n",
    "The formula simply means, it returns **higher value** when you have many **wrong answers**, and **lower value** when you have many **correct answers**. \n",
    "\n",
    "Let's see how it works in practice. **Run the cell below** to define a label."
   ]
  },
  {
   "cell_type": "code",
   "execution_count": 17,
   "metadata": {
    "collapsed": false
   },
   "outputs": [
    {
     "data": {
      "text/plain": [
       "<Container object of 10 artists>"
      ]
     },
     "execution_count": 17,
     "metadata": {},
     "output_type": "execute_result"
    },
    {
     "data": {
      "image/png": "[encoded data removed]",
      "text/plain": [
       "<matplotlib.figure.Figure at 0x7fdad89d5ad0>"
      ]
     },
     "metadata": {},
     "output_type": "display_data"
    }
   ],
   "source": [
    "# label\n",
    "label = np.array([0, 0, 0, 0, 0, 0, 0, 0, 1, 0])\n",
    "plt.bar(i, label)"
   ]
  },
  {
   "cell_type": "markdown",
   "metadata": {},
   "source": [
    "Then, let's calculate a cross entropy value on the softmax values calculated at the last lab. **Run the cell below**."
   ]
  },
  {
   "cell_type": "code",
   "execution_count": 21,
   "metadata": {
    "collapsed": false
   },
   "outputs": [
    {
     "data": {
      "text/plain": [
       "<function __main__.cross_entropy>"
      ]
     },
     "execution_count": 21,
     "metadata": {},
     "output_type": "execute_result"
    }
   ],
   "source": [
    "def cross_entropy(x, _y):\n",
    "  return -np.sum(_y * np.log(x))\n",
    "cross_entropy"
   ]
  },
  {
   "cell_type": "markdown",
   "metadata": {},
   "source": [
    "This defines the method `cross_entropy`. You can pass the output from the softmax as parameter `x`, and pass the labels as `_y`. So that the method calculates cross entropy value.\n",
    "\n",
    "Now, **run the cell below** to emulate what would happen during the training."
   ]
  },
  {
   "cell_type": "code",
   "execution_count": 22,
   "metadata": {
    "collapsed": false
   },
   "outputs": [
    {
     "data": {
      "text/plain": [
       "[<matplotlib.lines.Line2D at 0x7fdadc3d6250>]"
      ]
     },
     "execution_count": 22,
     "metadata": {},
     "output_type": "execute_result"
    },
    {
     "data": {
      "image/png": "[encoded data removed]",
      "text/plain": [
       "<matplotlib.figure.Figure at 0x7fdadc32fed0>"
      ]
     },
     "metadata": {},
     "output_type": "display_data"
    }
   ],
   "source": [
    "# simulate the training\n",
    "cross_ent = []\n",
    "for i in range(0, 100):\n",
    "  cross_ent.append(cross_entropy(softmax(n), label))\n",
    "  n[8] += 0.1\n",
    "plt.plot(cross_ent)"
   ]
  },
  {
   "cell_type": "markdown",
   "metadata": {},
   "source": [
    "In the code above, it manually increase the value of `n[8]` with the loop. It's faking a training to see how the cross entropy value changes as training proceeds. As you can see on the graph, cross entropy function has a steep curb at the initial phase of the training, so that it makes the training faster to converge. "
   ]
  },
  {
   "cell_type": "markdown",
   "metadata": {},
   "source": [
    "---\n",
    "### Create a `Session` in TensorFlow\n",
    "\n",
    "Now, let's start the training of our network. First, you need a `Session` as a runtime for your TensorFlow graph. **Run the cell below** to define it."
   ]
  },
  {
   "cell_type": "code",
   "execution_count": null,
   "metadata": {
    "collapsed": true
   },
   "outputs": [],
   "source": [
    "# supress warning messages\n",
    "tf.logging.set_verbosity(tf.logging.ERROR)\n",
    "\n",
    "# initialize variables and session\n",
    "init = tf.initialize_all_variables()\n",
    "sess = tf.Session()\n",
    "sess.run(init)"
   ]
  },
  {
   "cell_type": "markdown",
   "metadata": {},
   "source": [
    "At line 6, it creates a new `Session`. Session represents a runtime of TensorFlow where you can execute various TensorFlow operations for training, testing and etc. With TensorFlow Low level API, you follow the steps below to do training.\n",
    "\n",
    "- Define a neural network\n",
    "- Define a train step with a loss function and an optimization algorithm\n",
    "- Create a `Session` for training the model\n",
    "- Run the training with the `Session`\n",
    "\n",
    "Why we need to use this tedious procedures? Because TensorFlow is designed to be **scalable and portable**. You can specify different kinds of `Sessions` that represent the runtime on your local laptop, GPUs on a PC, or CPU/GPU/[TPU](https://cloudplatform.googleblog.com/2016/05/Google-supercharges-machine-learning-tasks-with-custom-chip.html) on the cloud. So, the whole design - defining a computation graph and pass it on a runtime - allows the code independent from a particular runtime. "
   ]
  },
  {
   "cell_type": "markdown",
   "metadata": {},
   "source": [
    "### Training with mini batch\n",
    "\n",
    "Next, start training. In this case we will use [Stochastic Gradient Decent (SGD)](https://en.wikipedia.org/wiki/Stochastic_gradient_descent), that means you are applying the Gradient Descent algorithm defined with the tf.Operation `train_step` to 100 randomly selected samples from the 55,000 images and labels. SGD allows you to have the training much faster and efficient. **Run the cell below** to start the training."
   ]
  },
  {
   "cell_type": "code",
   "execution_count": 29,
   "metadata": {
    "collapsed": false
   },
   "outputs": [
    {
     "name": "stdout",
     "output_type": "stream",
     "text": [
      "Training Finished.\n"
     ]
    }
   ],
   "source": [
    "for i in range(1000):\n",
    "  batch_xs, batch_ys = mnist.train.next_batch(100)\n",
    "  sess.run(train_step, feed_dict={x: batch_xs, y_: batch_ys})\n",
    "\n",
    "print('Training Finished.')"
   ]
  },
  {
   "cell_type": "markdown",
   "metadata": {},
   "source": [
    "- At line 2, it randomly picks 100 sample images and labels as a mini batch\n",
    "- At line 3, it calls `Session.run` method to pass the train step definition and the mini batch.\n",
    "- At line 1, it repeats the training with a mini batch for 1000 times. With each mini batch, the optimization algorithm moves weights and biases toward the direction of less cross entropy value\n",
    "\n",
    "This is what was happening inside the `DNNClassifier` we have used in the section 2. You can define your own network and algorithm with L ow level API for sophisticated or complex applications."
   ]
  },
  {
   "cell_type": "markdown",
   "metadata": {},
   "source": [
    "### Let's test it!\n",
    "\n",
    "At last, checking the accuracy of the network you have just trained. **Run the cell below** to do that."
   ]
  },
  {
   "cell_type": "code",
   "execution_count": 31,
   "metadata": {
    "collapsed": false
   },
   "outputs": [
    {
     "name": "stdout",
     "output_type": "stream",
     "text": [
      "0.9195\n"
     ]
    }
   ],
   "source": [
    "correct_prediction = tf.equal(tf.argmax(y, 1), tf.argmax(y_, 1))\n",
    "calc_accuracy = tf.reduce_mean(tf.cast(correct_prediction, \"float\"))\n",
    "accuracy = sess.run(calc_accuracy, feed_dict={x: mnist.test.images, y_: mnist.test.labels})\n",
    "print(accuracy)"
   ]
  },
  {
   "cell_type": "markdown",
   "metadata": {},
   "source": [
    "- At line 3, it passes the testing images to Tensor `x` and testing labels to Tensor `y`, and calls `Session.run` method to run the test calculation flow\n",
    "- At line 1, it calls `tf.argmax` method on `y` to pick the prediction results from the network, and `_y` to pick the correct labels. The `tf.equal` method compares them and generate a list of boolean values\n",
    "- At line 2, it takes a mean value of how many Trues found in the `calc_accuracy`. The accuracy value will be returned from the `Session.run` method at line 3\n",
    "\n",
    "That's it! Now you have seen how TensorFlow works to use the single layer neural network model to classify the handwritten text."
   ]
  },
  {
   "cell_type": "markdown",
   "metadata": {},
   "source": [
    "---\n",
    "### Lab: Try Deeper!\n",
    "\n",
    "- Try modifying the code above to define your deep neural network with 3 (or more) layers, and see how it increase the accuracy"
   ]
  },
  {
   "cell_type": "markdown",
   "metadata": {},
   "source": [
    "# Today We Learned\n",
    "\n",
    "- **Single neuron** can take an image and recognize a digit\n",
    "- **Matrix operation** (y = Wx + b) can define a neural network concisely\n",
    "- **Softmax** converts the result to probabilities (0.0 - 1.0)\n",
    "- **Cross Entropy** evaluates how much error the network makes (the loss function)\n",
    "- **Gradient Decent** moves weights and biases toward the direction with less error\n",
    "- **Mini Batch** trains the network with small batch of data"
   ]
  },
  {
   "cell_type": "code",
   "execution_count": null,
   "metadata": {
    "collapsed": true
   },
   "outputs": [],
   "source": []
  }
 ],
 "metadata": {
  "kernelspec": {
   "display_name": "Python 2",
   "language": "python",
   "name": "python2"
  },
  "language_info": {
   "codemirror_mode": {
    "name": "ipython",
    "version": 2
   },
   "file_extension": ".py",
   "mimetype": "text/x-python",
   "name": "python",
   "nbconvert_exporter": "python",
   "pygments_lexer": "ipython2",
   "version": "2.7.9"
  }
 },
 "nbformat": 4,
 "nbformat_minor": 0
}
